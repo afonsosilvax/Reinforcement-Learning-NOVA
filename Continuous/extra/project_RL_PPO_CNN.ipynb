{
 "cells": [
  {
   "cell_type": "code",
   "id": "389b60588d43f009",
   "metadata": {
    "ExecuteTime": {
     "end_time": "2025-06-20T18:32:43.838339Z",
     "start_time": "2025-06-20T18:32:43.824687Z"
    }
   },
   "source": [
    "'''\n",
    "# For GPU support, install the following packages:\n",
    "!pip3 install torch torchvision torchaudio --index-url https://download.pytorch.org/whl/cu128\n",
    "!pip install gymnasium[box2d]\n",
    "!pip install stable-baselines3[extra]\n",
    "!pip install ipywidgets\n",
    "'''"
   ],
   "outputs": [
    {
     "data": {
      "text/plain": [
       "'\\n# For GPU support, install the following packages:\\n!pip3 install torch torchvision torchaudio --index-url https://download.pytorch.org/whl/cu128\\n!pip install gymnasium[box2d]\\n!pip install stable-baselines3[extra]\\n!pip install ipywidgets\\n'"
      ]
     },
     "execution_count": 1,
     "metadata": {},
     "output_type": "execute_result"
    }
   ],
   "execution_count": 1
  },
  {
   "cell_type": "code",
   "id": "130c204e7d2ace68",
   "metadata": {
    "ExecuteTime": {
     "end_time": "2025-06-20T18:32:49.514607Z",
     "start_time": "2025-06-20T18:32:43.886771Z"
    }
   },
   "source": [
    "import random\n",
    "import numpy as np\n",
    "import torch\n",
    "import torch.nn as nn\n",
    "import torch.optim as optim\n",
    "import torch.nn.functional as F\n",
    "from collections import deque\n",
    "import gymnasium as gym\n",
    "import itertools\n",
    "import time\n",
    "import os\n",
    "\n",
    "\n",
    "# Import Frame Stacker Wrapper and Grayscale Wrapper\n",
    "from gymnasium.wrappers import GrayscaleObservation\n",
    "# Import Vectorization Wrappers\n",
    "from stable_baselines3.common.vec_env import VecFrameStack, DummyVecEnv\n",
    "# Import matplotlib\n",
    "import matplotlib.pyplot as plt\n",
    "# Import PPO\n",
    "from stable_baselines3 import PPO"
   ],
   "outputs": [],
   "execution_count": 2
  },
  {
   "cell_type": "code",
   "id": "b0107cedc502aee1",
   "metadata": {
    "ExecuteTime": {
     "end_time": "2025-06-20T18:32:49.953680Z",
     "start_time": "2025-06-20T18:32:49.784657Z"
    }
   },
   "source": [
    "# check if GPU is available\n",
    "torch.cuda.is_available()"
   ],
   "outputs": [
    {
     "data": {
      "text/plain": [
       "True"
      ]
     },
     "execution_count": 3,
     "metadata": {},
     "output_type": "execute_result"
    }
   ],
   "execution_count": 3
  },
  {
   "cell_type": "markdown",
   "id": "c69b2057f7b62203",
   "metadata": {},
   "source": [
    "# Using an image as a state"
   ]
  },
  {
   "cell_type": "code",
   "id": "b60b4d023c2fa7cf",
   "metadata": {
    "ExecuteTime": {
     "end_time": "2025-06-20T18:32:50.150175Z",
     "start_time": "2025-06-20T18:32:50.041520Z"
    }
   },
   "source": [
    "class ImageObservationWrapper(gym.ObservationWrapper):\n",
    "    def __init__(self, env):\n",
    "        super().__init__(env)\n",
    "        sample_img = env.render()\n",
    "        self.observation_space = gym.spaces.Box(\n",
    "            low=0,\n",
    "            high=255,\n",
    "            shape=sample_img.shape,\n",
    "            dtype=sample_img.dtype\n",
    "        )\n",
    "\n",
    "    def observation(self, obs):\n",
    "        # Return the rendered image as the observation\n",
    "        return self.env.render()\n",
    "\n",
    "# Create the LunarLanderContinuous environment\n",
    "env = gym.make(\"LunarLanderContinuous-v3\", render_mode=\"rgb_array\")\n",
    "\n",
    "# Reset the environment to get the first state\n",
    "state, _ = env.reset()\n",
    "\n",
    "env = ImageObservationWrapper(env)\n",
    "state, _ = env.reset()\n",
    "\n",
    "print(state.shape)  # Should be (height, width, 3)"
   ],
   "outputs": [
    {
     "name": "stdout",
     "output_type": "stream",
     "text": [
      "(400, 600, 3)\n"
     ]
    }
   ],
   "execution_count": 4
  },
  {
   "cell_type": "code",
   "id": "33afb01b862a40dd",
   "metadata": {
    "ExecuteTime": {
     "end_time": "2025-06-20T18:32:50.798538Z",
     "start_time": "2025-06-20T18:32:50.624590Z"
    }
   },
   "source": [
    "plt.imshow(state)"
   ],
   "outputs": [
    {
     "data": {
      "text/plain": [
       "<matplotlib.image.AxesImage at 0x1e124eee900>"
      ]
     },
     "execution_count": 5,
     "metadata": {},
     "output_type": "execute_result"
    },
    {
     "data": {
      "text/plain": [
       "<Figure size 640x480 with 1 Axes>"
      ],
      "image/png": "[encoded data removed]"
     },
     "metadata": {},
     "output_type": "display_data"
    }
   ],
   "execution_count": 5
  },
  {
   "cell_type": "markdown",
   "id": "16e0c61dbec93a39",
   "metadata": {},
   "source": [
    "# Converting the image to grayscale and stacking frames"
   ]
  },
  {
   "cell_type": "code",
   "id": "c1f94ea00f559213",
   "metadata": {
    "ExecuteTime": {
     "end_time": "2025-06-20T18:33:05.207765Z",
     "start_time": "2025-06-20T18:33:05.165433Z"
    }
   },
   "source": [
    "# Grayscale\n",
    "env = GrayscaleObservation(env, keep_dim=True)\n",
    "\n",
    "# Wrap inside the Dummy Environment\n",
    "env = DummyVecEnv([lambda: env])\n",
    "\n",
    "# Stack the frames\n",
    "env = VecFrameStack(env, n_stack=4, channels_order='last')  # Stack 4 frames\n",
    "\n",
    "state = env.reset()\n",
    "\n",
    "state.shape # Should be (1, height, width, 4) for 4 stacked frames"
   ],
   "outputs": [
    {
     "data": {
      "text/plain": [
       "(1, 400, 600, 4)"
      ]
     },
     "execution_count": 6,
     "metadata": {},
     "output_type": "execute_result"
    }
   ],
   "execution_count": 6
  },
  {
   "cell_type": "code",
   "id": "16c747de022ef283",
   "metadata": {
    "ExecuteTime": {
     "end_time": "2025-06-20T18:35:46.296217Z",
     "start_time": "2025-06-20T18:35:45.253636Z"
    }
   },
   "source": [
    "state = env.reset()\n",
    "\n",
    "for i in range(60):\n",
    "    state, reward, done, info = env.step([env.action_space.sample()])\n",
    "\n",
    "# Visualize stacked frames\n",
    "plt.figure(figsize=(20, 16))\n",
    "for idx in range(state.shape[3]):\n",
    "\n",
    "    plt.subplot(1, 4, idx + 1)\n",
    "    plt.imshow(state[0, :, :, idx], cmap='gray')\n",
    "plt.show()"
   ],
   "outputs": [
    {
     "data": {
      "text/plain": [
       "<Figure size 2000x1600 with 4 Axes>"
      ],
      "image/png": "[encoded data removed]"
     },
     "metadata": {},
     "output_type": "display_data"
    }
   ],
   "execution_count": 13
  },
  {
   "cell_type": "markdown",
   "id": "3e706d2a013cb18f",
   "metadata": {},
   "source": [
    "> stacked images"
   ]
  },
  {
   "cell_type": "code",
   "id": "84b5b52b713a855b",
   "metadata": {
    "ExecuteTime": {
     "end_time": "2025-06-20T18:36:07.860484Z",
     "start_time": "2025-06-20T18:36:07.739775Z"
    }
   },
   "source": [
    "plt.imshow(state[0])"
   ],
   "outputs": [
    {
     "data": {
      "text/plain": [
       "<matplotlib.image.AxesImage at 0x1e12f4efc80>"
      ]
     },
     "execution_count": 14,
     "metadata": {},
     "output_type": "execute_result"
    },
    {
     "data": {
      "text/plain": [
       "<Figure size 640x480 with 1 Axes>"
      ],
      "image/png": "[encoded data removed]"
     },
     "metadata": {},
     "output_type": "display_data"
    }
   ],
   "execution_count": 14
  },
  {
   "cell_type": "code",
   "id": "a1f874f6741ff12a",
   "metadata": {
    "ExecuteTime": {
     "end_time": "2025-06-20T18:36:18.673612Z",
     "start_time": "2025-06-20T18:36:18.659660Z"
    }
   },
   "source": [
    "state = env.reset()"
   ],
   "outputs": [],
   "execution_count": 15
  },
  {
   "cell_type": "markdown",
   "id": "e2ddb0b445d6a464",
   "metadata": {},
   "source": [
    "# Train the RL agent using PPO"
   ]
  },
  {
   "cell_type": "code",
   "id": "2902dc1ed591f978",
   "metadata": {
    "ExecuteTime": {
     "end_time": "2025-06-20T18:36:58.609999Z",
     "start_time": "2025-06-20T18:36:51.131628Z"
    }
   },
   "source": [
    "agent = PPO(\n",
    "    \"CnnPolicy\",\n",
    "    env,\n",
    "    learning_rate=1e-4,\n",
    "    n_steps=512,\n",
    "    batch_size=64,\n",
    "    device=\"cuda\",\n",
    "    tensorboard_log=\"./ppo_lunarlander_tensorboard/\"\n",
    ")"
   ],
   "outputs": [],
   "execution_count": 16
  },
  {
   "cell_type": "code",
   "id": "37e4c77a9148ff45",
   "metadata": {
    "ExecuteTime": {
     "end_time": "2025-06-20T18:37:05.115041Z",
     "start_time": "2025-06-20T18:37:05.110865Z"
    }
   },
   "source": [
    "# Check if CUDA is available\n",
    "print(torch.cuda.is_available())  # Should print True if GPU is available\n",
    "\n",
    "# Check the device of the policy network\n",
    "print(agent.policy.device)  # Should print 'cuda:0' if using GPU"
   ],
   "outputs": [
    {
     "name": "stdout",
     "output_type": "stream",
     "text": [
      "True\n",
      "cuda:0\n"
     ]
    }
   ],
   "execution_count": 17
  },
  {
   "cell_type": "code",
   "id": "8cfab73d4c85c399",
   "metadata": {
    "ExecuteTime": {
     "end_time": "2025-06-21T06:39:36.850926Z",
     "start_time": "2025-06-20T18:37:08.769997Z"
    }
   },
   "source": [
    "# Train the agent and see statistics in the output\n",
    "agent.learn(total_timesteps=1_000_000, tb_log_name=\"run1\")\n",
    "\n",
    "# Save the trained agent\n",
    "agent.save(\"ppo_lunarlander_continuous\")"
   ],
   "outputs": [],
   "execution_count": 18
  },
  {
   "cell_type": "markdown",
   "id": "a5adc2b4cf4ac5a9",
   "metadata": {},
   "source": [
    "# Test"
   ]
  },
  {
   "cell_type": "code",
   "id": "dfb8e6c13a6d8143",
   "metadata": {
    "ExecuteTime": {
     "end_time": "2025-06-21T08:33:52.901479Z",
     "start_time": "2025-06-21T08:33:44.485147Z"
    }
   },
   "source": [
    "# Create a separate environment for rendering\n",
    "render_env = gym.make(\"LunarLanderContinuous-v3\", render_mode=\"human\")\n",
    "state_render, _ = render_env.reset()\n",
    "\n",
    "# Reset the wrapped environment for agent\n",
    "state_agent = env.reset()\n",
    "\n",
    "done = False\n",
    "while not done:\n",
    "    # Get action from agent using stacked grayscale state\n",
    "    action, _ = agent.predict(state_agent, deterministic=True)\n",
    "    # Step in the agent's environment\n",
    "    state_agent, reward, done, info = env.step(action)\n",
    "    # Step in the render environment with the same action\n",
    "    state_render, reward_render, done_render, _, _ = render_env.step(action[0])\n",
    "    render_env.render()\n",
    "    time.sleep(0.03)  # Slow down for visualization\n",
    "\n",
    "render_env.close()"
   ],
   "outputs": [],
   "execution_count": 32
  },
  {
   "metadata": {
    "ExecuteTime": {
     "end_time": "2025-06-21T08:34:21.295565Z",
     "start_time": "2025-06-21T08:34:20.335901Z"
    }
   },
   "cell_type": "code",
   "source": [
    "# Reset the environment\n",
    "state = env.reset()\n",
    "done = False\n",
    "total_reward = 0.0\n",
    "\n",
    "while not done:\n",
    "    action, _ = agent.predict(state, deterministic=True)\n",
    "    state, reward, done, info = env.step(action)\n",
    "    total_reward += reward\n",
    "\n",
    "print(f\"Total reward for this episode: {total_reward}\")"
   ],
   "id": "4a65fbf952f52b1a",
   "outputs": [
    {
     "name": "stdout",
     "output_type": "stream",
     "text": [
      "Total reward for this episode: [-397.85266]\n"
     ]
    }
   ],
   "execution_count": 37
  }
 ],
 "metadata": {
  "kernelspec": {
   "display_name": "Python 3 (ipykernel)",
   "language": "python",
   "name": "python3"
  },
  "language_info": {
   "codemirror_mode": {
    "name": "ipython",
    "version": 3
   },
   "file_extension": ".py",
   "mimetype": "text/x-python",
   "name": "python",
   "nbconvert_exporter": "python",
   "pygments_lexer": "ipython3",
   "version": "3.12.11"
  }
 },
 "nbformat": 4,
 "nbformat_minor": 5
}
